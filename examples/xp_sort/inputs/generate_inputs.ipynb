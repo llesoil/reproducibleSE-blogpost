{
 "cells": [
  {
   "cell_type": "markdown",
   "metadata": {},
   "source": [
    "### Libs"
   ]
  },
  {
   "cell_type": "code",
   "execution_count": 1,
   "metadata": {},
   "outputs": [],
   "source": [
    "import numpy as np\n",
    "import pandas as pd"
   ]
  },
  {
   "cell_type": "markdown",
   "metadata": {},
   "source": [
    "### Generation of tables"
   ]
  },
  {
   "cell_type": "code",
   "execution_count": 2,
   "metadata": {},
   "outputs": [],
   "source": [
    "names = []\n",
    "for array_length in [10, 100, 1000, 10000, 100000, 1000000]:\n",
    "    tab = np.random.normal(0, 1000, array_length)\n",
    "    np.savetxt('./random/float/'+str(array_length)+'.txt', tab, fmt = '%1.8f')\n",
    "    names.append('../../inputs/random/float/'+str(array_length)+'.txt')\n",
    "    np.savetxt('./random/int/'+str(array_length)+'.txt', tab, '%d')\n",
    "    names.append('../../inputs/random/int/'+str(array_length)+'.txt')\n",
    "    tab = np.sort(tab)\n",
    "    np.savetxt('./ordered/float/'+str(array_length)+'.txt', tab, fmt = '%1.8f')\n",
    "    names.append('../../inputs/ordered/float/'+str(array_length)+'.txt')\n",
    "    np.savetxt('./ordered/int/'+str(array_length)+'.txt', tab, '%d')\n",
    "    names.append('../../inputs/ordered/int/'+str(array_length)+'.txt')\n",
    "np.savetxt('input_path.txt', names, '%s')"
   ]
  },
  {
   "cell_type": "markdown",
   "metadata": {},
   "source": [
    "### Load inputs with python..."
   ]
  },
  {
   "cell_type": "code",
   "execution_count": 3,
   "metadata": {},
   "outputs": [
    {
     "data": {
      "text/plain": [
       "array([-568.39650144, -429.38663795, -335.1198675 , -176.84874442,\n",
       "        215.606197  ,  296.03544789,  299.67699781,  769.02517312,\n",
       "        919.03003091, 1652.15954104])"
      ]
     },
     "execution_count": 3,
     "metadata": {},
     "output_type": "execute_result"
    }
   ],
   "source": [
    "def load_input(filename):\n",
    "    \n",
    "    tabtype = filename.split(\"/\")[1]\n",
    "    \n",
    "    tab = np.loadtxt(filename)\n",
    "    \n",
    "    if tabtype == 'int':\n",
    "        tab = tab.astype(int)\n",
    "        \n",
    "    return tab\n",
    "\n",
    "load_input(\"ordered/int/10.txt\")\n",
    "load_input(\"ordered/float/10.txt\")"
   ]
  },
  {
   "cell_type": "markdown",
   "metadata": {},
   "source": [
    "### ...and try the sorting algorithms"
   ]
  },
  {
   "cell_type": "code",
   "execution_count": 4,
   "metadata": {},
   "outputs": [],
   "source": [
    "def mergeSort(arr):\n",
    "    if len(arr) > 1:\n",
    " \n",
    "         # Finding the mid of the array\n",
    "        mid = len(arr)//2\n",
    " \n",
    "        # Dividing the array elements\n",
    "        L = arr[:mid]\n",
    " \n",
    "        # into 2 halves\n",
    "        R = arr[mid:]\n",
    " \n",
    "        # Sorting the first half\n",
    "        mergeSort(L)\n",
    " \n",
    "        # Sorting the second half\n",
    "        mergeSort(R)\n",
    " \n",
    "        i = j = k = 0\n",
    " \n",
    "        # Copy data to temp arrays L[] and R[]\n",
    "        while i < len(L) and j < len(R):\n",
    "            if L[i] < R[j]:\n",
    "                arr[k] = L[i]\n",
    "                i += 1\n",
    "            else:\n",
    "                arr[k] = R[j]\n",
    "                j += 1\n",
    "            k += 1\n",
    " \n",
    "        # Checking if any element was left\n",
    "        while i < len(L):\n",
    "            arr[k] = L[i]\n",
    "            i += 1\n",
    "            k += 1\n",
    " \n",
    "        while j < len(R):\n",
    "            arr[k] = R[j]\n",
    "            j += 1\n",
    "            k += 1\n",
    "\n",
    "mergeSort(load_input(\"ordered/int/10000.txt\"))"
   ]
  },
  {
   "cell_type": "code",
   "execution_count": 8,
   "metadata": {},
   "outputs": [],
   "source": [
    "def bubbleSort(arr):\n",
    "    n = len(arr)\n",
    "   \n",
    "    # Traverse through all array elements\n",
    "    for i in range(n):\n",
    "        swapped = False\n",
    "  \n",
    "        # Last i elements are already\n",
    "        #  in place\n",
    "        for j in range(0, n-i-1):\n",
    "   \n",
    "            # traverse the array from 0 to\n",
    "            # n-i-1. Swap if the element \n",
    "            # found is greater than the\n",
    "            # next element\n",
    "            if arr[j] > arr[j+1] :\n",
    "                arr[j], arr[j+1] = arr[j+1], arr[j]\n",
    "                swapped = True\n",
    "  \n",
    "        # IF no two elements were swapped\n",
    "        # by inner loop, then break\n",
    "        if swapped == False:\n",
    "            break\n",
    "\n",
    "bubbleSort(load_input(\"random/float/10000.txt\"))"
   ]
  },
  {
   "cell_type": "code",
   "execution_count": 6,
   "metadata": {},
   "outputs": [],
   "source": [
    "def mergeSort(arr):\n",
    "    if len(arr) > 1:\n",
    " \n",
    "         # Finding the mid of the array\n",
    "        mid = len(arr)//2\n",
    " \n",
    "        # Dividing the array elements\n",
    "        L = arr[:mid]\n",
    " \n",
    "        # into 2 halves\n",
    "        R = arr[mid:]\n",
    " \n",
    "        # Sorting the first half\n",
    "        mergeSort(L)\n",
    " \n",
    "        # Sorting the second half\n",
    "        mergeSort(R)\n",
    " \n",
    "        i = j = k = 0\n",
    " \n",
    "        # Copy data to temp arrays L[] and R[]\n",
    "        while i < len(L) and j < len(R):\n",
    "            if L[i] < R[j]:\n",
    "                arr[k] = L[i]\n",
    "                i += 1\n",
    "            else:\n",
    "                arr[k] = R[j]\n",
    "                j += 1\n",
    "            k += 1\n",
    " \n",
    "        # Checking if any element was left\n",
    "        while i < len(L):\n",
    "            arr[k] = L[i]\n",
    "            i += 1\n",
    "            k += 1\n",
    " \n",
    "        while j < len(R):\n",
    "            arr[k] = R[j]\n",
    "            j += 1\n",
    "            k += 1\n",
    "            \n",
    "mergeSort(load_input(\"ordered/int/10000.txt\"))"
   ]
  },
  {
   "cell_type": "code",
   "execution_count": null,
   "metadata": {},
   "outputs": [],
   "source": []
  }
 ],
 "metadata": {
  "kernelspec": {
   "display_name": "Python 3",
   "language": "python",
   "name": "python3"
  },
  "language_info": {
   "codemirror_mode": {
    "name": "ipython",
    "version": 3
   },
   "file_extension": ".py",
   "mimetype": "text/x-python",
   "name": "python",
   "nbconvert_exporter": "python",
   "pygments_lexer": "ipython3",
   "version": "3.7.6"
  }
 },
 "nbformat": 4,
 "nbformat_minor": 4
}
